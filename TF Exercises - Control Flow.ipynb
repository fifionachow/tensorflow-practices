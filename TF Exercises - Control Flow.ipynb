{
 "cells": [
  {
   "cell_type": "markdown",
   "metadata": {},
   "source": [
    "# Control Flow"
   ]
  },
  {
   "cell_type": "code",
   "execution_count": 1,
   "metadata": {},
   "outputs": [
    {
     "name": "stderr",
     "output_type": "stream",
     "text": [
      "/Users/fionachow/anaconda3/lib/python3.6/site-packages/h5py/__init__.py:36: FutureWarning: Conversion of the second argument of issubdtype from `float` to `np.floating` is deprecated. In future, it will be treated as `np.float64 == np.dtype(float).type`.\n",
      "  from ._conv import register_converters as _register_converters\n"
     ]
    }
   ],
   "source": [
    "from __future__ import print_function\n",
    "import tensorflow as tf\n",
    "import numpy as np"
   ]
  },
  {
   "cell_type": "code",
   "execution_count": 2,
   "metadata": {
    "collapsed": true
   },
   "outputs": [],
   "source": [
    "author = \"kyubyong. https://github.com/Kyubyong/tensorflow-exercises\""
   ]
  },
  {
   "cell_type": "code",
   "execution_count": 3,
   "metadata": {
    "collapsed": true
   },
   "outputs": [],
   "source": [
    "sess = tf.InteractiveSession()"
   ]
  },
  {
   "cell_type": "markdown",
   "metadata": {},
   "source": [
    "NOTE on notation\n",
    "* _x, _y, _z, ...: NumPy 0-d or 1-d arrays\n",
    "* _X, _Y, _Z, ...: NumPy 2-d or higer dimensional arrays\n",
    "* x, y, z, ...: 0-d or 1-d tensors\n",
    "* X, Y, Z, ...: 2-d or higher dimensional tensors"
   ]
  },
  {
   "cell_type": "markdown",
   "metadata": {},
   "source": [
    "## Control Flow Operations"
   ]
  },
  {
   "cell_type": "markdown",
   "metadata": {},
   "source": [
    "Q1. Let x and y be random 0-D tensors. Return x + y \n",
    "if x < y and x - y otherwise."
   ]
  },
  {
   "cell_type": "code",
   "execution_count": 25,
   "metadata": {},
   "outputs": [
    {
     "name": "stdout",
     "output_type": "stream",
     "text": [
      "0.4330062 0.7942757\n",
      "1.2272819\n"
     ]
    }
   ],
   "source": [
    "x = tf.constant(np.random.rand())\n",
    "y = tf.convert_to_tensor(np.random.rand())\n",
    "\n",
    "q1_tensor = tf.cond(x<y, lambda: tf.add(x, y), lambda: tf.subtract(x, y))\n",
    "print(x.eval(), y.eval())\n",
    "print(q1_tensor.eval())"
   ]
  },
  {
   "cell_type": "markdown",
   "metadata": {},
   "source": [
    "Q2. Let x and y be 0-D int32 tensors randomly selected from 0 to 5. Return x + y 2 if x < y, x - y elif x > y, 0 otherwise."
   ]
  },
  {
   "cell_type": "code",
   "execution_count": 33,
   "metadata": {},
   "outputs": [
    {
     "name": "stdout",
     "output_type": "stream",
     "text": [
      "1 0\n",
      "1\n"
     ]
    }
   ],
   "source": [
    "x = tf.constant(np.random.randint(0, 5), dtype=np.int32)\n",
    "y = tf.constant(np.random.randint(0, 5), dtype=np.int32)\n",
    "\n",
    "print(x.eval(), y.eval())\n",
    "\n",
    "default_const = tf.constant(0, dtype=np.int32)\n",
    "\n",
    "q2_tensor = tf.case({tf.less(x, y): lambda: x+y,\n",
    "                     tf.greater(x, y): lambda: x-y},\n",
    "                    default=lambda: default_const, exclusive=True)\n",
    "\n",
    "print(q2_tensor.eval())"
   ]
  },
  {
   "cell_type": "markdown",
   "metadata": {},
   "source": [
    "Q3. Let X be a tensor [[-1, -2, -3], [0, 1, 2]] and Y be a tensor of zeros with the same shape as X. Return a boolean tensor that yields True if X equals Y elementwise."
   ]
  },
  {
   "cell_type": "code",
   "execution_count": 44,
   "metadata": {},
   "outputs": [
    {
     "name": "stdout",
     "output_type": "stream",
     "text": [
      "[[-1 -2 -3]\n",
      " [ 0  1  2]] [[0 0 0]\n",
      " [0 0 0]]\n",
      "[[False False False]\n",
      " [ True False False]]\n"
     ]
    }
   ],
   "source": [
    "X = tf.convert_to_tensor(np.array([[-1, -2, -3], [0, 1, 2]]), dtype=np.int32)\n",
    "Y = tf.zeros(X.get_shape(), dtype=np.int32)\n",
    "print(X.eval(), Y.eval())\n",
    "q3_tensor = tf.equal(X, Y)\n",
    "print(q3_tensor.eval())"
   ]
  },
  {
   "cell_type": "markdown",
   "metadata": {},
   "source": [
    "## Logical Operators"
   ]
  },
  {
   "cell_type": "markdown",
   "metadata": {},
   "source": [
    "Q4. Given x and y below, return the truth value x AND/OR/XOR y element-wise."
   ]
  },
  {
   "cell_type": "code",
   "execution_count": 51,
   "metadata": {},
   "outputs": [
    {
     "name": "stdout",
     "output_type": "stream",
     "text": [
      "[[ True False False]\n",
      " [ True  True False]\n",
      " [False  True False]]\n"
     ]
    }
   ],
   "source": [
    "x = tf.constant([True, False, False], tf.bool)\n",
    "y = tf.constant([True, True, False], tf.bool)\n",
    "and_tensor = tf.logical_and(x, y)\n",
    "or_tensor = tf.logical_or(x, y)\n",
    "xor_tensor = tf.logical_xor(x, y)\n",
    "\n",
    "q4_tensor = tf.stack([and_tensor, or_tensor, xor_tensor])\n",
    "print(q4_tensor.eval())"
   ]
  },
  {
   "cell_type": "markdown",
   "metadata": {},
   "source": [
    "Q5. Given x, return the truth value of NOT x element-wise."
   ]
  },
  {
   "cell_type": "code",
   "execution_count": 52,
   "metadata": {},
   "outputs": [
    {
     "name": "stdout",
     "output_type": "stream",
     "text": [
      "[False  True  True]\n"
     ]
    }
   ],
   "source": [
    "x = tf.constant([True, False, False], tf.bool)\n",
    "\n",
    "q5_tensor = tf.logical_not(x)\n",
    "print(q5_tensor.eval())"
   ]
  },
  {
   "cell_type": "markdown",
   "metadata": {},
   "source": [
    "## Comparison Operators"
   ]
  },
  {
   "cell_type": "markdown",
   "metadata": {},
   "source": [
    "Q6. Let X be a tensor [[-1, -2, -3], [0, 1, 2]] and Y be a tensor of zeros with the same shape as x. Return a boolean tensor that yields True if X does not equal Y elementwise."
   ]
  },
  {
   "cell_type": "code",
   "execution_count": 55,
   "metadata": {},
   "outputs": [
    {
     "name": "stdout",
     "output_type": "stream",
     "text": [
      "[[False False False]\n",
      " [ True False False]]\n"
     ]
    }
   ],
   "source": [
    "X = tf.convert_to_tensor(np.array([[-1, -2, -3], [0, 1, 2]]), dtype=np.int32)\n",
    "Y = tf.zeros(X.get_shape(), dtype=np.int32)\n",
    "\n",
    "q6_tensor = tf.equal(X, Y)\n",
    "print(q6_tensor.eval())"
   ]
  },
  {
   "cell_type": "markdown",
   "metadata": {},
   "source": [
    "Q7. Let X be a tensor [[-1, -2, -3], [0, 1, 2]] and Y be a tensor of zeros with the same shape as X. Return a boolean tensor that yields True if X is greater than or equal to Y elementwise."
   ]
  },
  {
   "cell_type": "code",
   "execution_count": 56,
   "metadata": {},
   "outputs": [
    {
     "name": "stdout",
     "output_type": "stream",
     "text": [
      "[[False False False]\n",
      " [False  True  True]]\n"
     ]
    }
   ],
   "source": [
    "X = tf.convert_to_tensor(np.array([[-1, -2, -3], [0, 1, 2]]), dtype=np.int32)\n",
    "Y = tf.zeros(X.get_shape(), dtype=np.int32)\n",
    "\n",
    "q7_tensor = tf.greater_equal(X, Y)\n",
    "print(q7_tensor.eval())"
   ]
  },
  {
   "cell_type": "markdown",
   "metadata": {},
   "source": [
    "Q8. Let X be a tensor [[1, 2], [3, 4]], Y be a tensor [[5, 6], [7, 8]], and Z be a boolean tensor [[True, False], [False, True]]. Create a 2*2 tensor such that each element corresponds to X if Z is True, otherise Y."
   ]
  },
  {
   "cell_type": "code",
   "execution_count": 60,
   "metadata": {},
   "outputs": [
    {
     "name": "stdout",
     "output_type": "stream",
     "text": [
      "[[1 6]\n",
      " [7 4]]\n"
     ]
    }
   ],
   "source": [
    "X = tf.convert_to_tensor(np.array([[1, 2], [3, 4]]))\n",
    "Y = tf.convert_to_tensor(np.array([[5, 6], [7, 8]]))\n",
    "Z = tf.convert_to_tensor(np.array([[True, False], [False, True]]))\n",
    "\n",
    "q8_tensor = tf.where(Z, X, Y)\n",
    "print(q8_tensor.eval())"
   ]
  },
  {
   "cell_type": "code",
   "execution_count": null,
   "metadata": {
    "collapsed": true
   },
   "outputs": [],
   "source": []
  }
 ],
 "metadata": {
  "anaconda-cloud": {},
  "kernelspec": {
   "display_name": "Anaconda 3",
   "language": "python",
   "name": "anaconda3"
  },
  "language_info": {
   "codemirror_mode": {
    "name": "ipython",
    "version": 3
   },
   "file_extension": ".py",
   "mimetype": "text/x-python",
   "name": "python",
   "nbconvert_exporter": "python",
   "pygments_lexer": "ipython3",
   "version": "3.6.4"
  }
 },
 "nbformat": 4,
 "nbformat_minor": 1
}

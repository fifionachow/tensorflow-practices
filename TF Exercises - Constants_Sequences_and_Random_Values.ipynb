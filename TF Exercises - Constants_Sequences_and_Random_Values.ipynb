{
 "cells": [
  {
   "cell_type": "markdown",
   "metadata": {},
   "source": [
    "Author: https://github.com/Kyubyong/tensorflow-exercises"
   ]
  },
  {
   "cell_type": "code",
   "execution_count": 1,
   "metadata": {},
   "outputs": [
    {
     "name": "stderr",
     "output_type": "stream",
     "text": [
      "/Users/fionachow/anaconda3/lib/python3.6/site-packages/h5py/__init__.py:36: FutureWarning: Conversion of the second argument of issubdtype from `float` to `np.floating` is deprecated. In future, it will be treated as `np.float64 == np.dtype(float).type`.\n",
      "  from ._conv import register_converters as _register_converters\n"
     ]
    }
   ],
   "source": [
    "import tensorflow as tf\n",
    "import numpy as np"
   ]
  },
  {
   "cell_type": "code",
   "execution_count": 2,
   "metadata": {
    "collapsed": true
   },
   "outputs": [],
   "source": [
    "sess = tf.InteractiveSession()"
   ]
  },
  {
   "cell_type": "markdown",
   "metadata": {},
   "source": [
    "# Constants_Sequences_and_Random_Values"
   ]
  },
  {
   "cell_type": "code",
   "execution_count": 3,
   "metadata": {},
   "outputs": [
    {
     "name": "stdout",
     "output_type": "stream",
     "text": [
      "[[0. 0. 0.]\n",
      " [0. 0. 0.]]\n"
     ]
    }
   ],
   "source": [
    "#Q1. Create a tensor of the shape [2, 3] with all elements set to zero.\n",
    "q1_tensor = tf.zeros([2, 3])\n",
    "\n",
    "print(q1_tensor.eval())"
   ]
  },
  {
   "cell_type": "code",
   "execution_count": 4,
   "metadata": {},
   "outputs": [
    {
     "name": "stdout",
     "output_type": "stream",
     "text": [
      "[[0. 0. 0.]\n",
      " [0. 0. 0.]]\n"
     ]
    }
   ],
   "source": [
    "#Q2. Let X be a tensor of [[1,2,3], [4,5,6]]. \n",
    "#Create a tensor of the same shape and dtype as X with all elements set to zero.\n",
    "X = tf.constant([[1,2,3], [4,5,6]])\n",
    "q2_tensor = tf.zeros(X.get_shape())\n",
    "\n",
    "print(q2_tensor.eval())"
   ]
  },
  {
   "cell_type": "code",
   "execution_count": 5,
   "metadata": {},
   "outputs": [
    {
     "name": "stdout",
     "output_type": "stream",
     "text": [
      "[[1. 1. 1.]\n",
      " [1. 1. 1.]]\n"
     ]
    }
   ],
   "source": [
    "#Q3. Create a tensor of shape [2, 3] with all elements set to one.\n",
    "q3_tensor = tf.ones([2, 3])\n",
    "\n",
    "print(q3_tensor.eval())"
   ]
  },
  {
   "cell_type": "code",
   "execution_count": 6,
   "metadata": {},
   "outputs": [
    {
     "name": "stdout",
     "output_type": "stream",
     "text": [
      "[[1. 1. 1.]\n",
      " [1. 1. 1.]]\n"
     ]
    }
   ],
   "source": [
    "#Q4. Let X be a tensor of [[1,2,3], [4,5,6]]. \n",
    "#Create a tensor of the same shape and dtype as X with all elements set to one.\n",
    "q4_tensor = tf.ones(X.get_shape())\n",
    "\n",
    "print(q4_tensor.eval())"
   ]
  },
  {
   "cell_type": "code",
   "execution_count": 22,
   "metadata": {},
   "outputs": [
    {
     "name": "stdout",
     "output_type": "stream",
     "text": [
      "[[1 1 1]\n",
      " [1 1 1]]\n"
     ]
    }
   ],
   "source": [
    "#SOLUTION\n",
    "_X = np.array([[1,2,3], [4,5,6]])\n",
    "X = tf.convert_to_tensor(_X)\n",
    "out = tf.ones_like(X)\n",
    "print(out.eval())"
   ]
  },
  {
   "cell_type": "code",
   "execution_count": 7,
   "metadata": {},
   "outputs": [
    {
     "name": "stdout",
     "output_type": "stream",
     "text": [
      "[[5 5]\n",
      " [5 5]\n",
      " [5 5]]\n"
     ]
    }
   ],
   "source": [
    "#Q5. Create a tensor of the shape [3, 2], with all elements of 5.\n",
    "q5_tensor = tf.constant(value=5, shape=[3, 2])\n",
    "\n",
    "print(q5_tensor.eval())"
   ]
  },
  {
   "cell_type": "code",
   "execution_count": 23,
   "metadata": {},
   "outputs": [
    {
     "name": "stdout",
     "output_type": "stream",
     "text": [
      "[[5 5]\n",
      " [5 5]\n",
      " [5 5]]\n"
     ]
    }
   ],
   "source": [
    "#SOLUTION\n",
    "out1 = tf.fill([3, 2], 5)\n",
    "print(out1.eval())"
   ]
  },
  {
   "cell_type": "code",
   "execution_count": 9,
   "metadata": {},
   "outputs": [
    {
     "name": "stdout",
     "output_type": "stream",
     "text": [
      "[[1. 3. 5.]\n",
      " [4. 6. 8.]]\n"
     ]
    }
   ],
   "source": [
    "#Q6. Create a constant tensor of [[1, 3, 5], [4, 6, 8]], with dtype=float32\n",
    "q6_tensor = tf.constant([[1, 3, 5], [4, 6, 8]], dtype=np.float32)\n",
    "\n",
    "print(q6_tensor.eval())"
   ]
  },
  {
   "cell_type": "code",
   "execution_count": 10,
   "metadata": {},
   "outputs": [
    {
     "name": "stdout",
     "output_type": "stream",
     "text": [
      "[[4 4 4]\n",
      " [4 4 4]]\n"
     ]
    }
   ],
   "source": [
    "#Q7. Create a constant tensor of the shape [2, 3], with all elements set to 4.\n",
    "q7_tensor = tf.constant(value=4, shape=[2, 3])\n",
    "\n",
    "print(q7_tensor.eval())"
   ]
  },
  {
   "cell_type": "markdown",
   "metadata": {},
   "source": [
    "# Sequences"
   ]
  },
  {
   "cell_type": "code",
   "execution_count": 14,
   "metadata": {},
   "outputs": [
    {
     "name": "stdout",
     "output_type": "stream",
     "text": [
      "[5.        5.12      5.24      5.3599997 5.4799995 5.5999994 5.7199993\n",
      " 5.839999  5.959999  6.079999  6.199999  6.3199987 6.4399986 6.5599985\n",
      " 6.6799984 6.7999983 6.919998  7.039998  7.159998  7.279998  7.3999977\n",
      " 7.5199976 7.6399975 7.7599974 7.8799973 7.999997  8.119997  8.239997\n",
      " 8.359997  8.479997  8.599997  8.719996  8.839996  8.959996  9.079996\n",
      " 9.199996  9.319996  9.439996  9.559996  9.679996  9.799995  9.919995 ]\n"
     ]
    }
   ],
   "source": [
    "#Q8. Create a 1-D tensor of 50 evenly spaced elements between 5 and 10 inclusive.\n",
    "q8_tensor = tf.range(5, 10, delta=(11-5)/50, dtype=None, name='range')\n",
    "\n",
    "print(q8_tensor.eval())"
   ]
  },
  {
   "cell_type": "code",
   "execution_count": 24,
   "metadata": {},
   "outputs": [
    {
     "name": "stdout",
     "output_type": "stream",
     "text": [
      "[ 5.         5.102041   5.2040815  5.3061223  5.408163   5.5102043\n",
      "  5.612245   5.714286   5.8163266  5.9183674  6.020408   6.122449\n",
      "  6.2244897  6.3265305  6.4285717  6.5306125  6.632653   6.734694\n",
      "  6.836735   6.9387755  7.0408163  7.1428576  7.244898   7.346939\n",
      "  7.4489794  7.5510206  7.6530614  7.755102   7.857143   7.9591837\n",
      "  8.061225   8.163265   8.265306   8.367347   8.469388   8.571428\n",
      "  8.67347    8.775511   8.877551   8.979592   9.081633   9.183674\n",
      "  9.285715   9.387755   9.489796   9.591837   9.693878   9.795918\n",
      "  9.897959  10.       ]\n"
     ]
    }
   ],
   "source": [
    "#SOLUTION\n",
    "out = tf.linspace(5., 10., 50)\n",
    "print(out.eval())"
   ]
  },
  {
   "cell_type": "code",
   "execution_count": 16,
   "metadata": {},
   "outputs": [
    {
     "name": "stdout",
     "output_type": "stream",
     "text": [
      "[ 10  12  14  16  18  20  22  24  26  28  30  32  34  36  38  40  42  44\n",
      "  46  48  50  52  54  56  58  60  62  64  66  68  70  72  74  76  78  80\n",
      "  82  84  86  88  90  92  94  96  98 100]\n"
     ]
    }
   ],
   "source": [
    "#Q9. Create a tensor which looks like [10, 12, 14, 16, ..., 100].\n",
    "q9_tensor= tf.range(10, 101, 2)\n",
    "\n",
    "print(q9_tensor.eval())"
   ]
  },
  {
   "cell_type": "markdown",
   "metadata": {},
   "source": [
    "# Random Tensors"
   ]
  },
  {
   "cell_type": "code",
   "execution_count": 17,
   "metadata": {},
   "outputs": [
    {
     "name": "stdout",
     "output_type": "stream",
     "text": [
      "[[-2.5838206   4.012572  ]\n",
      " [ 2.1589448   0.53605527]\n",
      " [-1.0143135  -1.3786379 ]]\n"
     ]
    }
   ],
   "source": [
    "#Q10. Create a random tensor of the shape [3, 2],\n",
    "#with elements from a normal distribution of mean=0, standard deviation=2.\n",
    "q10_tensor = tf.random_normal(shape=[3, 2],\n",
    "                              mean=0.0,\n",
    "                              stddev=2.0,\n",
    "                              dtype=tf.float32)\n",
    "\n",
    "print(q10_tensor.eval())"
   ]
  },
  {
   "cell_type": "code",
   "execution_count": 18,
   "metadata": {},
   "outputs": [
    {
     "name": "stdout",
     "output_type": "stream",
     "text": [
      "[[-0.64378035 -0.27004606]\n",
      " [ 1.3157966  -0.32281837]\n",
      " [ 0.03965941 -0.68341583]]\n"
     ]
    }
   ],
   "source": [
    "#Q11. Create a random tensor of the shape [3, 2],\n",
    "#with elements from a normal distribution of mean=0, standard deviation=1\n",
    "#such that any values don't exceed 2 standard deviations from the mean.\n",
    "q11_tensor = tf.random_normal(shape=[3, 2],\n",
    "                              mean=0.0,\n",
    "                              stddev=1.0,\n",
    "                              dtype=tf.float32)\n",
    "\n",
    "print(q11_tensor.eval())"
   ]
  },
  {
   "cell_type": "code",
   "execution_count": 25,
   "metadata": {},
   "outputs": [
    {
     "name": "stdout",
     "output_type": "stream",
     "text": [
      "[[ 0.5634254   1.0506076 ]\n",
      " [-0.7238139  -0.5294184 ]\n",
      " [ 0.03453378 -0.2676996 ]]\n"
     ]
    }
   ],
   "source": [
    "#SOLUTION\n",
    "out = tf.truncated_normal([3, 2])\n",
    "print(out.eval())"
   ]
  },
  {
   "cell_type": "code",
   "execution_count": 19,
   "metadata": {},
   "outputs": [
    {
     "name": "stdout",
     "output_type": "stream",
     "text": [
      "[[1.7437418  1.6915004 ]\n",
      " [1.3894043  0.37233233]\n",
      " [0.34731174 0.231601  ]]\n"
     ]
    }
   ],
   "source": [
    "#Q12. Create a random tensor of the shape [3, 2],\n",
    "#with all elements from a uniform distribution that ranges from 0 to 2 (exclusive).\n",
    "q12_tensor = tf.random_uniform(\n",
    "                                shape=[3, 2],\n",
    "                                minval=0,\n",
    "                                maxval=2,\n",
    "                                dtype=tf.float32,\n",
    "                            )\n",
    "\n",
    "print(q12_tensor.eval())"
   ]
  },
  {
   "cell_type": "code",
   "execution_count": 20,
   "metadata": {},
   "outputs": [
    {
     "name": "stdout",
     "output_type": "stream",
     "text": [
      "[[1 2]\n",
      " [5 6]\n",
      " [3 4]]\n"
     ]
    }
   ],
   "source": [
    "#Q13. Let X be a tensor of [[1, 2], [3, 4], [5, 6]].\n",
    "#Shuffle X along its first dimension.\n",
    "X = tf.constant([[1, 2], [3, 4], [5, 6]])\n",
    "\n",
    "q13_tensor = tf.random_shuffle(X)\n",
    "\n",
    "print(q13_tensor.eval())"
   ]
  },
  {
   "cell_type": "code",
   "execution_count": 21,
   "metadata": {
    "scrolled": true
   },
   "outputs": [
    {
     "name": "stdout",
     "output_type": "stream",
     "text": [
      "[[[-0.2297542  -0.35578743 -1.5036045 ]\n",
      "  [-0.20191051 -0.31680965 -0.7397404 ]\n",
      "  [-0.66747123 -1.429316   -0.9081488 ]\n",
      "  [-1.2430823  -1.2967135   1.37706   ]\n",
      "  [-0.8806726   1.1837018  -0.8205752 ]]\n",
      "\n",
      " [[ 2.5796652   0.14420795  0.45152912]\n",
      "  [ 1.0589567   1.5233465  -0.32812932]\n",
      "  [-0.1081267  -0.2696964   0.08099049]\n",
      "  [ 0.5669915  -0.5777837   0.42713055]\n",
      "  [ 0.73541856 -0.04120554  0.05900655]]\n",
      "\n",
      " [[-0.3148139  -1.4084914   0.2820968 ]\n",
      "  [-0.85088915  0.6115946   0.00506029]\n",
      "  [-0.8395407   0.5706553  -0.22779284]\n",
      "  [-0.9654998  -1.5894506  -0.24104767]\n",
      "  [-1.9531943  -0.21741672  1.4337276 ]]\n",
      "\n",
      " [[ 1.854095    0.48075858  0.12202391]\n",
      "  [-0.02125987  1.8063276   0.65060383]\n",
      "  [ 0.7466592   0.30814737 -1.0596495 ]\n",
      "  [ 0.77525467  0.3436308  -0.6493021 ]\n",
      "  [-0.06687041 -1.2555549   3.1977897 ]]\n",
      "\n",
      " [[-2.0689075   0.5135881   0.5715283 ]\n",
      "  [-0.50519764  0.39643407 -1.1111534 ]\n",
      "  [-0.89940035  0.22556487 -0.57932717]\n",
      "  [ 0.90384316 -0.9603264   0.2073884 ]\n",
      "  [-0.07581397  0.26399618  0.36726955]]]\n"
     ]
    }
   ],
   "source": [
    "#Q14. Let X be a random tensor of the shape [10, 10, 3],\n",
    "#with elements from a unit normal distribution.\n",
    "#Crop X with the shape of [5, 5, 3].\n",
    "X = tf.random_normal(\n",
    "    shape=[10, 10, 3],\n",
    "    dtype=tf.float32\n",
    ")\n",
    "\n",
    "q14_tensor = tf.random_crop(X,\n",
    "                            size=[5, 5, 3]\n",
    "                           )\n",
    "\n",
    "print(q14_tensor.eval())"
   ]
  },
  {
   "cell_type": "markdown",
   "metadata": {},
   "source": [
    "# SOLUTION"
   ]
  }
 ],
 "metadata": {
  "kernelspec": {
   "display_name": "Anaconda 3",
   "language": "python",
   "name": "anaconda3"
  },
  "language_info": {
   "codemirror_mode": {
    "name": "ipython",
    "version": 3
   },
   "file_extension": ".py",
   "mimetype": "text/x-python",
   "name": "python",
   "nbconvert_exporter": "python",
   "pygments_lexer": "ipython3",
   "version": "3.6.4"
  }
 },
 "nbformat": 4,
 "nbformat_minor": 2
}

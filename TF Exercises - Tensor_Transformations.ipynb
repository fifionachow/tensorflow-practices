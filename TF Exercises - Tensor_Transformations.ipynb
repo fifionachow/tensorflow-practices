{
 "cells": [
  {
   "cell_type": "markdown",
   "metadata": {},
   "source": [
    "# TF - Tensor Transformations"
   ]
  },
  {
   "cell_type": "code",
   "execution_count": 1,
   "metadata": {},
   "outputs": [
    {
     "name": "stderr",
     "output_type": "stream",
     "text": [
      "/Users/fionachow/anaconda3/lib/python3.6/site-packages/h5py/__init__.py:36: FutureWarning: Conversion of the second argument of issubdtype from `float` to `np.floating` is deprecated. In future, it will be treated as `np.float64 == np.dtype(float).type`.\n",
      "  from ._conv import register_converters as _register_converters\n"
     ]
    }
   ],
   "source": [
    "from __future__ import print_function\n",
    "import tensorflow as tf\n",
    "import numpy as np"
   ]
  },
  {
   "cell_type": "code",
   "execution_count": 2,
   "metadata": {
    "collapsed": true
   },
   "outputs": [],
   "source": [
    "sess = tf.InteractiveSession()"
   ]
  },
  {
   "cell_type": "markdown",
   "metadata": {},
   "source": [
    "NOTE on notation\n",
    "* _x, _y, _z, ...: NumPy 0-d or 1-d arrays\n",
    "* _X, _Y, _Z, ...: NumPy 2-d or higer dimensional arrays\n",
    "* x, y, z, ...: 0-d or 1-d tensors\n",
    "* X, Y, Z, ...: 2-d or higher dimensional tensors"
   ]
  },
  {
   "cell_type": "markdown",
   "metadata": {},
   "source": [
    "## Casting"
   ]
  },
  {
   "cell_type": "markdown",
   "metadata": {},
   "source": [
    "Q1. Let X be a tensor of [[\"1.1\", \"2.2\"], [\"3.3\", \"4.4\"]]. Convert the datatype of X to float32."
   ]
  },
  {
   "cell_type": "code",
   "execution_count": 10,
   "metadata": {},
   "outputs": [
    {
     "data": {
      "text/plain": [
       "array([[1.1, 2.2],\n",
       "       [3.3, 4.4]], dtype=float32)"
      ]
     },
     "execution_count": 10,
     "metadata": {},
     "output_type": "execute_result"
    }
   ],
   "source": [
    "X = [[\"1.1\", \"2.2\"], [\"3.3\", \"4.4\"]]\n",
    "q1_tensor = tf.cast(tf.string_to_number(tf.convert_to_tensor(X)), dtype=tf.float32)\n",
    "\n",
    "q1_tensor.eval()"
   ]
  },
  {
   "cell_type": "markdown",
   "metadata": {},
   "source": [
    "Q2. Let X be a tensor [[1, 2], [3, 4]] of int32. Convert the data type of X to float64."
   ]
  },
  {
   "cell_type": "code",
   "execution_count": 12,
   "metadata": {},
   "outputs": [
    {
     "data": {
      "text/plain": [
       "array([[1., 2.],\n",
       "       [3., 4.]])"
      ]
     },
     "execution_count": 12,
     "metadata": {},
     "output_type": "execute_result"
    }
   ],
   "source": [
    "X = np.array([[1, 2], [3, 4]]).astype(np.int32)\n",
    "q2_tensor = tf.cast(tf.convert_to_tensor(X), dtype=tf.float64)\n",
    "\n",
    "q2_tensor.eval()"
   ]
  },
  {
   "cell_type": "markdown",
   "metadata": {},
   "source": [
    "Q3. Let X be a tensor [[1, 2], [3, 4]] of int32. Convert the data type of X to float32."
   ]
  },
  {
   "cell_type": "code",
   "execution_count": 13,
   "metadata": {},
   "outputs": [
    {
     "data": {
      "text/plain": [
       "array([[1., 2.],\n",
       "       [3., 4.]], dtype=float32)"
      ]
     },
     "execution_count": 13,
     "metadata": {},
     "output_type": "execute_result"
    }
   ],
   "source": [
    "q3_tensor = tf.cast(tf.convert_to_tensor(X), dtype=tf.float32)\n",
    "\n",
    "q3_tensor.eval()"
   ]
  },
  {
   "cell_type": "markdown",
   "metadata": {},
   "source": [
    "Q4. Let X be a tensor [[1, 2], [3, 4]] of float32. Convert the data type of X to int32."
   ]
  },
  {
   "cell_type": "code",
   "execution_count": 14,
   "metadata": {},
   "outputs": [
    {
     "data": {
      "text/plain": [
       "array([[1, 2],\n",
       "       [3, 4]], dtype=int32)"
      ]
     },
     "execution_count": 14,
     "metadata": {},
     "output_type": "execute_result"
    }
   ],
   "source": [
    "X = np.array([[1, 2], [3, 4]]).astype(np.float32)\n",
    "\n",
    "q4_tensor = tf.cast(tf.convert_to_tensor(X), dtype=tf.int32)\n",
    "\n",
    "q4_tensor.eval()"
   ]
  },
  {
   "cell_type": "markdown",
   "metadata": {},
   "source": [
    "Q5. Let X be a tensor [[1, 2], [3, 4]] of float32. Convert the data type of X to int64."
   ]
  },
  {
   "cell_type": "code",
   "execution_count": 15,
   "metadata": {},
   "outputs": [
    {
     "data": {
      "text/plain": [
       "array([[1, 2],\n",
       "       [3, 4]])"
      ]
     },
     "execution_count": 15,
     "metadata": {},
     "output_type": "execute_result"
    }
   ],
   "source": [
    "X = np.array([[1, 2], [3, 4]]).astype(np.float32)\n",
    "\n",
    "q5_tensor = tf.cast(tf.convert_to_tensor(X), dtype=tf.int64)\n",
    "\n",
    "q5_tensor.eval()"
   ]
  },
  {
   "cell_type": "markdown",
   "metadata": {},
   "source": [
    "## Shapes and Shaping"
   ]
  },
  {
   "cell_type": "markdown",
   "metadata": {},
   "source": [
    "Q6. Let X be a tensor of [[[1, 2], [3, 4]], [[5, 6], [7, 8]], [[9, 10], [11, 12]]]. Create a tensor representing the shape of X."
   ]
  },
  {
   "cell_type": "code",
   "execution_count": 18,
   "metadata": {},
   "outputs": [
    {
     "data": {
      "text/plain": [
       "array([3, 2, 2], dtype=int32)"
      ]
     },
     "execution_count": 18,
     "metadata": {},
     "output_type": "execute_result"
    }
   ],
   "source": [
    "X = np.array([[[1, 2], [3, 4]], [[5, 6], [7, 8]], [[9, 10], [11, 12]]])\n",
    "\n",
    "q6_tensor = tf.constant(X.shape)\n",
    "\n",
    "q6_tensor.eval()"
   ]
  },
  {
   "cell_type": "markdown",
   "metadata": {},
   "source": [
    "Q7. Let X be a tensor of [[[1, 2], [3, 4]], [[5, 6], [7, 8]], [[9, 10], [11, 12]]]) and y be a tensor [10, 20]. Create a list of tensors representing the shape of X and y."
   ]
  },
  {
   "cell_type": "code",
   "execution_count": 21,
   "metadata": {},
   "outputs": [
    {
     "data": {
      "text/plain": [
       "(array([3, 2, 2], dtype=int32), array([2], dtype=int32))"
      ]
     },
     "execution_count": 21,
     "metadata": {},
     "output_type": "execute_result"
    }
   ],
   "source": [
    "X = np.array([[[1, 2], [3, 4]], [[5, 6], [7, 8]], [[9, 10], [11, 12]]])\n",
    "Y = np.array([10, 20])\n",
    "\n",
    "out_X, out_y = tf.shape_n([X, Y]) \n",
    "\n",
    "out_X.eval(), out_y.eval()"
   ]
  },
  {
   "cell_type": "markdown",
   "metadata": {},
   "source": [
    "Q8. Let X be a tensor of [[[1, 2], [3, 4]], [[5, 6], [7, 8]], [[9, 10], [11, 12]]]. Create a tensor representing the size (=total number of elements) of X."
   ]
  },
  {
   "cell_type": "code",
   "execution_count": 23,
   "metadata": {},
   "outputs": [
    {
     "data": {
      "text/plain": [
       "12"
      ]
     },
     "execution_count": 23,
     "metadata": {},
     "output_type": "execute_result"
    }
   ],
   "source": [
    "X = np.array([[[1, 2], [3, 4]], [[5, 6], [7, 8]], [[9, 10], [11, 12]]])\n",
    "\n",
    "tf.size(tf.constant(X)).eval()"
   ]
  },
  {
   "cell_type": "markdown",
   "metadata": {},
   "source": [
    "Q9. Let X be a tensor of [[[1, 2], [3, 4]], [[5, 6], [7, 8]], [[9, 10], [11, 12]]]. Create a tensor representing the rank (=number of dimensions) of X."
   ]
  },
  {
   "cell_type": "code",
   "execution_count": 24,
   "metadata": {},
   "outputs": [
    {
     "data": {
      "text/plain": [
       "3"
      ]
     },
     "execution_count": 24,
     "metadata": {},
     "output_type": "execute_result"
    }
   ],
   "source": [
    "X = np.array([[[1, 2], [3, 4]], [[5, 6], [7, 8]], [[9, 10], [11, 12]]])\n",
    "\n",
    "tf.rank(tf.constant(X)).eval()"
   ]
  },
  {
   "cell_type": "markdown",
   "metadata": {},
   "source": [
    "Q10. Let X be tf.ones([10, 10, 3]). Reshape X so that the size of the second dimension equals 150."
   ]
  },
  {
   "cell_type": "code",
   "execution_count": 30,
   "metadata": {},
   "outputs": [
    {
     "data": {
      "text/plain": [
       "array([[1., 1., 1., 1., 1., 1., 1., 1., 1., 1., 1., 1., 1., 1., 1., 1.,\n",
       "        1., 1., 1., 1., 1., 1., 1., 1., 1., 1., 1., 1., 1., 1., 1., 1.,\n",
       "        1., 1., 1., 1., 1., 1., 1., 1., 1., 1., 1., 1., 1., 1., 1., 1.,\n",
       "        1., 1., 1., 1., 1., 1., 1., 1., 1., 1., 1., 1., 1., 1., 1., 1.,\n",
       "        1., 1., 1., 1., 1., 1., 1., 1., 1., 1., 1., 1., 1., 1., 1., 1.,\n",
       "        1., 1., 1., 1., 1., 1., 1., 1., 1., 1., 1., 1., 1., 1., 1., 1.,\n",
       "        1., 1., 1., 1., 1., 1., 1., 1., 1., 1., 1., 1., 1., 1., 1., 1.,\n",
       "        1., 1., 1., 1., 1., 1., 1., 1., 1., 1., 1., 1., 1., 1., 1., 1.,\n",
       "        1., 1., 1., 1., 1., 1., 1., 1., 1., 1., 1., 1., 1., 1., 1., 1.,\n",
       "        1., 1., 1., 1., 1., 1.],\n",
       "       [1., 1., 1., 1., 1., 1., 1., 1., 1., 1., 1., 1., 1., 1., 1., 1.,\n",
       "        1., 1., 1., 1., 1., 1., 1., 1., 1., 1., 1., 1., 1., 1., 1., 1.,\n",
       "        1., 1., 1., 1., 1., 1., 1., 1., 1., 1., 1., 1., 1., 1., 1., 1.,\n",
       "        1., 1., 1., 1., 1., 1., 1., 1., 1., 1., 1., 1., 1., 1., 1., 1.,\n",
       "        1., 1., 1., 1., 1., 1., 1., 1., 1., 1., 1., 1., 1., 1., 1., 1.,\n",
       "        1., 1., 1., 1., 1., 1., 1., 1., 1., 1., 1., 1., 1., 1., 1., 1.,\n",
       "        1., 1., 1., 1., 1., 1., 1., 1., 1., 1., 1., 1., 1., 1., 1., 1.,\n",
       "        1., 1., 1., 1., 1., 1., 1., 1., 1., 1., 1., 1., 1., 1., 1., 1.,\n",
       "        1., 1., 1., 1., 1., 1., 1., 1., 1., 1., 1., 1., 1., 1., 1., 1.,\n",
       "        1., 1., 1., 1., 1., 1.]], dtype=float32)"
      ]
     },
     "execution_count": 30,
     "metadata": {},
     "output_type": "execute_result"
    }
   ],
   "source": [
    "X = tf.ones([10, 10, 3])\n",
    "xsize = tf.size(X).eval()\n",
    "reshape_dim = (int(xsize/150), 150)\n",
    "\n",
    "q10_tensor = tf.reshape(tensor=X, shape=reshape_dim)\n",
    "q10_tensor.eval()"
   ]
  },
  {
   "cell_type": "markdown",
   "metadata": {},
   "source": [
    "Q11. Let X be tf.ones([10, 10, 1, 1]). Remove all the dimensions of size 1 in X."
   ]
  },
  {
   "cell_type": "code",
   "execution_count": 34,
   "metadata": {},
   "outputs": [
    {
     "data": {
      "text/plain": [
       "(10, 10)"
      ]
     },
     "execution_count": 34,
     "metadata": {},
     "output_type": "execute_result"
    }
   ],
   "source": [
    "X = tf.ones([10, 10, 1, 1])\n",
    "q11_tensor =  tf.squeeze(X)\n",
    "(q11_tensor.eval().shape)"
   ]
  },
  {
   "cell_type": "markdown",
   "metadata": {},
   "source": [
    "Q12. Let X be tf.ones([10, 10, 1, 1]). Remove only the third dimension in X."
   ]
  },
  {
   "cell_type": "code",
   "execution_count": 35,
   "metadata": {},
   "outputs": [
    {
     "data": {
      "text/plain": [
       "(10, 10, 1)"
      ]
     },
     "execution_count": 35,
     "metadata": {},
     "output_type": "execute_result"
    }
   ],
   "source": [
    "X = tf.ones([10, 10, 1, 1])\n",
    "q12_tensor = tf.squeeze(X, [-1])\n",
    "q12_tensor.eval().shape"
   ]
  },
  {
   "cell_type": "markdown",
   "metadata": {},
   "source": [
    "Q13. Let X be tf.ones([10, 10]). Add a dimension of 1 at the end of X."
   ]
  },
  {
   "cell_type": "code",
   "execution_count": 37,
   "metadata": {},
   "outputs": [
    {
     "data": {
      "text/plain": [
       "(10, 10, 1)"
      ]
     },
     "execution_count": 37,
     "metadata": {},
     "output_type": "execute_result"
    }
   ],
   "source": [
    "X = tf.ones([10, 10])\n",
    "q13_tensor = tf.expand_dims(input=X, dim=-1)\n",
    "q13_tensor.eval().shape"
   ]
  },
  {
   "cell_type": "markdown",
   "metadata": {},
   "source": [
    "## Slicing and Joining"
   ]
  },
  {
   "cell_type": "markdown",
   "metadata": {},
   "source": [
    "Q14. Let X be a tensor<br/>\n",
    "[[[1, 1, 1], [2, 2, 2]],<br/>\n",
    "[[3, 3, 3], [4, 4, 4]],<br/>\n",
    "[[5, 5, 5], [6, 6, 6]]].<br/>\n",
    "Extract the [[[3, 3, 3], [5, 5, 5]] from X."
   ]
  },
  {
   "cell_type": "code",
   "execution_count": 53,
   "metadata": {},
   "outputs": [
    {
     "name": "stdout",
     "output_type": "stream",
     "text": [
      "(3, 2, 3)\n"
     ]
    },
    {
     "data": {
      "text/plain": [
       "array([[[3, 3, 3]],\n",
       "\n",
       "       [[5, 5, 5]]])"
      ]
     },
     "execution_count": 53,
     "metadata": {},
     "output_type": "execute_result"
    }
   ],
   "source": [
    "X = np.array([[[1, 1, 1], [2, 2, 2]],\n",
    "[[3, 3, 3], [4, 4, 4]],\n",
    "[[5, 5, 5], [6, 6, 6]]])\n",
    "\n",
    "#num of rows, num of arrays each row, num of elements per array\n",
    "print(X.shape)\n",
    "\n",
    "q14_tensor = tf.slice(tf.convert_to_tensor(X), begin=(1, 0, 0), size=(2, 1, 3)) \n",
    "q14_tensor.eval()"
   ]
  },
  {
   "cell_type": "markdown",
   "metadata": {},
   "source": [
    "Q15. Let X be a tensor of<br/>\n",
    "[[ 1  2]<br />\n",
    " [ 3  4]<br />\n",
    " [ 5  6]<br />\n",
    " [ 7  8]<br />\n",
    " [ 9 10]].<br />\n",
    " Extract the [[1, 2], [5, 6], [9, 10]]] from X."
   ]
  },
  {
   "cell_type": "code",
   "execution_count": 104,
   "metadata": {},
   "outputs": [
    {
     "data": {
      "text/plain": [
       "array([[ 1,  2],\n",
       "       [ 5,  6],\n",
       "       [ 9, 10]])"
      ]
     },
     "execution_count": 104,
     "metadata": {},
     "output_type": "execute_result"
    }
   ],
   "source": [
    "X = np.array([[1, 2], [3, 4], [5, 6], [7, 8], [9, 10]])\n",
    "q15_tensor = tf.strided_slice(tf.convert_to_tensor(X),\n",
    "                              begin=[0, 0],\n",
    "                              end=[5, 5],\n",
    "                              strides=[2, 1])\n",
    "\n",
    "q15_tensor.eval()"
   ]
  },
  {
   "cell_type": "markdown",
   "metadata": {},
   "source": [
    "Q16. Let X be a tensor of<br/>\n",
    "[[ 1  2  3  4  5]<br />\n",
    " [ 6  7  8  9  10]].<br />\n",
    "Split X into 5 same-sized tensors along the second dimension."
   ]
  },
  {
   "cell_type": "code",
   "execution_count": 118,
   "metadata": {},
   "outputs": [
    {
     "data": {
      "text/plain": [
       "[array([[1],\n",
       "        [6]]), array([[2],\n",
       "        [7]]), array([[3],\n",
       "        [8]]), array([[4],\n",
       "        [9]]), array([[ 5],\n",
       "        [10]])]"
      ]
     },
     "execution_count": 118,
     "metadata": {},
     "output_type": "execute_result"
    }
   ],
   "source": [
    "X = tf.convert_to_tensor(np.arange(1, 11).reshape(2, 5))\n",
    "q16_tensor = tf.split(X, 5, axis=1)\n",
    "[each.eval() for each in q16_tensor]"
   ]
  },
  {
   "cell_type": "markdown",
   "metadata": {},
   "source": [
    "Q17. Lex X be a tensor<br/>\n",
    "[[ 1 2 3]<br/>\n",
    " [ 4 5 6].<br/>\n",
    "Create a tensor looking like <br/>\n",
    "[[ 1 2 3 1 2 3 1 2 3 ]<br/>\n",
    " [ 4 5 6 4 5 6 4 5 6 ]]."
   ]
  },
  {
   "cell_type": "code",
   "execution_count": 126,
   "metadata": {},
   "outputs": [
    {
     "data": {
      "text/plain": [
       "array([[1, 2, 3, 1, 2, 3, 1, 2, 3],\n",
       "       [4, 5, 6, 4, 5, 6, 4, 5, 6]])"
      ]
     },
     "execution_count": 126,
     "metadata": {},
     "output_type": "execute_result"
    }
   ],
   "source": [
    "X = tf.convert_to_tensor(np.arange(1, 7).reshape(2, 3))\n",
    "q17_tensor = tf.tile(X, multiples=[1, 3])\n",
    "q17_tensor.eval()"
   ]
  },
  {
   "cell_type": "markdown",
   "metadata": {},
   "source": [
    "Q18. Lex X be a tensor <br/>\n",
    "[[ 1 2 3]<br/>\n",
    " [ 4 5 6].<br/>\n",
    "Pad 2 * 0's before the first dimension, 3 * 0's after the second dimension."
   ]
  },
  {
   "cell_type": "code",
   "execution_count": 156,
   "metadata": {},
   "outputs": [
    {
     "data": {
      "text/plain": [
       "array([[0, 0, 0, 0, 0, 0],\n",
       "       [0, 0, 0, 0, 0, 0],\n",
       "       [1, 2, 3, 0, 0, 0],\n",
       "       [4, 5, 6, 0, 0, 0]])"
      ]
     },
     "execution_count": 156,
     "metadata": {},
     "output_type": "execute_result"
    }
   ],
   "source": [
    "X = tf.convert_to_tensor(np.arange(1, 7).reshape(2, 3))\n",
    "\n",
    "#[[num of row paddings before, row paddings after], [num of col paddings before, after]]\n",
    "paddings = tf.constant([[2, 0], [0, 3]])\n",
    "q18_tensor = tf.pad(X,\n",
    "                   mode=\"CONSTANT\",\n",
    "                   paddings=paddings,\n",
    "                   constant_values=0)\n",
    "q18_tensor.eval()"
   ]
  },
  {
   "cell_type": "markdown",
   "metadata": {},
   "source": [
    "Q19. Lex X be a tensor <br/>\n",
    "[[ 1 2 3]<br/>\n",
    " [ 4 5 6].<br/>\n",
    "and Y be a tensor<br/>\n",
    "[[ 7 8 9]<br/>\n",
    " [10 11 12]].<br/>\n",
    "Concatenate X and Y so that the new tensor looks like [[1, 2, 3, 7, 8, 9], [4, 5, 6, 10, 11, 12]]."
   ]
  },
  {
   "cell_type": "code",
   "execution_count": 157,
   "metadata": {},
   "outputs": [
    {
     "data": {
      "text/plain": [
       "array([[ 1,  2,  3,  7,  8,  9],\n",
       "       [ 4,  5,  6, 10, 11, 12]])"
      ]
     },
     "execution_count": 157,
     "metadata": {},
     "output_type": "execute_result"
    }
   ],
   "source": [
    "X = tf.convert_to_tensor(np.arange(1, 7).reshape(2, 3))\n",
    "Y = tf.convert_to_tensor(np.arange(7, 13).reshape(2, 3))\n",
    "q19_tensor = tf.concat([X, Y], axis=1)\n",
    "q19_tensor.eval()"
   ]
  },
  {
   "cell_type": "markdown",
   "metadata": {},
   "source": [
    "Q20. Let x, y, and z be tensors [1, 4], [2, 5], and [3, 6], respectively. <br/>Create a single tensor from these such that it looks [[1, 2, 3], [4, 5, 6]]."
   ]
  },
  {
   "cell_type": "code",
   "execution_count": 166,
   "metadata": {},
   "outputs": [
    {
     "data": {
      "text/plain": [
       "array([[1, 2, 3],\n",
       "       [4, 5, 6]], dtype=int32)"
      ]
     },
     "execution_count": 166,
     "metadata": {},
     "output_type": "execute_result"
    }
   ],
   "source": [
    "X = tf.constant([1, 4])\n",
    "Y = tf.constant([2, 5])\n",
    "Z = tf.constant([3, 6])\n",
    "#axis 1 combines by columns\n",
    "q20_tensor = tf.stack([X, Y, Z], axis=1)\n",
    "q20_tensor.eval()"
   ]
  },
  {
   "cell_type": "markdown",
   "metadata": {},
   "source": [
    "Q21. Let X be a tensor [[1, 2, 3], [4, 5, 6]]. Convert X into Y such that Y looks like [[1, 4], [2, 5], [3, 6]]."
   ]
  },
  {
   "cell_type": "code",
   "execution_count": 180,
   "metadata": {},
   "outputs": [
    {
     "data": {
      "text/plain": [
       "array([[1, 4],\n",
       "       [2, 5],\n",
       "       [3, 6]])"
      ]
     },
     "execution_count": 180,
     "metadata": {},
     "output_type": "execute_result"
    }
   ],
   "source": [
    "X = tf.convert_to_tensor(np.array([[1, 2, 3], [4, 5, 6]]))\n",
    "#number of stacks, unstack by columns\n",
    "unstacked_X = tf.unstack(X, num=3, axis=1)\n",
    "q21_tensor = tf.parallel_stack(unstacked_X)\n",
    "q21_tensor.eval()"
   ]
  },
  {
   "cell_type": "markdown",
   "metadata": {},
   "source": [
    "Q22. Given X below, reverse the sequence along the second axis except the zero-paddings. "
   ]
  },
  {
   "cell_type": "code",
   "execution_count": 198,
   "metadata": {},
   "outputs": [
    {
     "name": "stdout",
     "output_type": "stream",
     "text": [
      "[[[0 1 0]\n",
      "  [0 0 1]\n",
      "  [0 0 0]]\n",
      "\n",
      " [[1 0 0]\n",
      "  [0 1 0]\n",
      "  [0 0 1]]]\n"
     ]
    }
   ],
   "source": [
    "X = tf.constant(\n",
    "[[[0, 0, 1],\n",
    "  [0, 1, 0],\n",
    "  [0, 0, 0]],\n",
    " \n",
    " [[0, 0, 1],\n",
    "  [0, 1, 0],\n",
    "  [1, 0, 0]]])\n",
    "\n",
    "q22_tensor = tf.reverse_sequence(X, [2, 3], seq_axis=1, batch_axis=0)\n",
    "print(q22_tensor.eval())"
   ]
  },
  {
   "cell_type": "markdown",
   "metadata": {},
   "source": [
    "Q23. Given X below, reverse the last dimension."
   ]
  },
  {
   "cell_type": "code",
   "execution_count": 206,
   "metadata": {},
   "outputs": [
    {
     "data": {
      "text/plain": [
       "array([[[[ 4,  3,  2,  1],\n",
       "         [ 8,  7,  6,  5],\n",
       "         [12, 11, 10,  9]],\n",
       "\n",
       "        [[16, 15, 14, 13],\n",
       "         [20, 19, 18, 17],\n",
       "         [24, 23, 22, 21]]]])"
      ]
     },
     "execution_count": 206,
     "metadata": {},
     "output_type": "execute_result"
    }
   ],
   "source": [
    "_X = np.arange(1, 1*2*3*4 + 1).reshape((1, 2, 3, 4))\n",
    "X = tf.convert_to_tensor(_X)\n",
    "q23_tensor = tf.reverse(\n",
    "                        X,\n",
    "                        axis=[-1])\n",
    "q23_tensor.eval()"
   ]
  },
  {
   "cell_type": "markdown",
   "metadata": {},
   "source": [
    "Q24. Given X below, permute its dimensions such that the new tensor has shape (3, 1, 2)."
   ]
  },
  {
   "cell_type": "code",
   "execution_count": 211,
   "metadata": {},
   "outputs": [
    {
     "data": {
      "text/plain": [
       "(3, 1, 2)"
      ]
     },
     "execution_count": 211,
     "metadata": {},
     "output_type": "execute_result"
    }
   ],
   "source": [
    "_X = np.ones((1, 2, 3))\n",
    "X = tf.convert_to_tensor(_X)\n",
    "q24_tensor = tf.transpose(X, perm=[2, 0, 1])\n",
    "q24_tensor.eval().shape"
   ]
  },
  {
   "cell_type": "markdown",
   "metadata": {},
   "source": [
    "Q25. Given X, below, get the first, and third rows."
   ]
  },
  {
   "cell_type": "code",
   "execution_count": 216,
   "metadata": {},
   "outputs": [
    {
     "name": "stdout",
     "output_type": "stream",
     "text": [
      "[[1 2 3]\n",
      " [4 5 6]\n",
      " [7 8 9]]\n"
     ]
    },
    {
     "data": {
      "text/plain": [
       "array([[1, 2, 3],\n",
       "       [7, 8, 9]])"
      ]
     },
     "execution_count": 216,
     "metadata": {},
     "output_type": "execute_result"
    }
   ],
   "source": [
    "_X = np.arange(1, 10).reshape((3, 3))\n",
    "X = tf.convert_to_tensor(_X)\n",
    "q25_tensor = tf.gather(\n",
    "                        X,\n",
    "                        [0, 2])\n",
    "q25_tensor.eval()"
   ]
  },
  {
   "cell_type": "markdown",
   "metadata": {},
   "source": [
    "Q26. Given X below, get the elements 5 and 7."
   ]
  },
  {
   "cell_type": "code",
   "execution_count": 223,
   "metadata": {},
   "outputs": [
    {
     "data": {
      "text/plain": [
       "array([[5, 7]])"
      ]
     },
     "execution_count": 223,
     "metadata": {},
     "output_type": "execute_result"
    }
   ],
   "source": [
    "_X = np.arange(1, 10).reshape((3, 3))\n",
    "X = tf.convert_to_tensor(_X)\n",
    "ind = [[[1, 1], [2,0]]]\n",
    "q26_tensor = tf.gather_nd(X, ind)\n",
    "q26_tensor.eval()"
   ]
  },
  {
   "cell_type": "markdown",
   "metadata": {},
   "source": [
    "Q27. Let x be a tensor [2, 2, 1, 5, 4, 5, 1, 2, 3]. Get the tensors of unique elements and their counts."
   ]
  },
  {
   "cell_type": "code",
   "execution_count": 226,
   "metadata": {},
   "outputs": [
    {
     "data": {
      "text/plain": [
       "(array([2, 1, 5, 4, 3]), array([3, 2, 2, 1, 1], dtype=int32))"
      ]
     },
     "execution_count": 226,
     "metadata": {},
     "output_type": "execute_result"
    }
   ],
   "source": [
    "X = tf.convert_to_tensor(np.array([2, 2, 1, 5, 4, 5, 1, 2, 3]))\n",
    "y, idx, count = tf.unique_with_counts(\n",
    "                                    X,\n",
    "                                    out_idx=tf.int32)\n",
    "y.eval(), count.eval()"
   ]
  },
  {
   "cell_type": "markdown",
   "metadata": {},
   "source": [
    "Q28. Let x be a tensor [1, 2, 3, 4, 5]. Divide the elements of x into a list of tensors that looks like [[3, 5], [1], [2, 4]]."
   ]
  },
  {
   "cell_type": "code",
   "execution_count": 227,
   "metadata": {},
   "outputs": [
    {
     "data": {
      "text/plain": [
       "[array([3, 5]), array([1]), array([2, 4])]"
      ]
     },
     "execution_count": 227,
     "metadata": {},
     "output_type": "execute_result"
    }
   ],
   "source": [
    "X = tf.convert_to_tensor(np.array([1, 2, 3, 4, 5]))\n",
    "partitions = [1, 2, 0, 2, 0]\n",
    "q28_out = tf.dynamic_partition(\n",
    "    data = X,\n",
    "    partitions=partitions,\n",
    "    num_partitions=3\n",
    ")\n",
    "[q.eval() for q in q28_out]"
   ]
  },
  {
   "cell_type": "markdown",
   "metadata": {},
   "source": [
    "Q29. Let X be a tensor [[7, 8], [5, 6]] and Y be a tensor [[1, 2], [3, 4]]. Create a single tensor looking like [[1, 2], [3, 4], [5, 6], [7, 8]]."
   ]
  },
  {
   "cell_type": "code",
   "execution_count": 229,
   "metadata": {},
   "outputs": [
    {
     "data": {
      "text/plain": [
       "array([[1, 2],\n",
       "       [3, 4],\n",
       "       [5, 6],\n",
       "       [7, 8]])"
      ]
     },
     "execution_count": 229,
     "metadata": {},
     "output_type": "execute_result"
    }
   ],
   "source": [
    "X = tf.convert_to_tensor(np.array([[7, 8], [5, 6]]))\n",
    "Y = tf.convert_to_tensor(np.array([[1, 2], [3, 4]]))\n",
    "indice = [[3, 2],[0, 1]]\n",
    "q29_tensor = tf.dynamic_stitch(indice, [X, Y])\n",
    "q29_tensor.eval()"
   ]
  },
  {
   "cell_type": "markdown",
   "metadata": {},
   "source": [
    "Q30. Let x be a tensor [0, 1, 2, 3] and y be a tensor [True, False, False, True].<br/>\n",
    "Apply mask y to x."
   ]
  },
  {
   "cell_type": "code",
   "execution_count": 230,
   "metadata": {},
   "outputs": [
    {
     "data": {
      "text/plain": [
       "array([0, 3])"
      ]
     },
     "execution_count": 230,
     "metadata": {},
     "output_type": "execute_result"
    }
   ],
   "source": [
    "X = tf.convert_to_tensor(np.array([0, 1, 2, 3]))\n",
    "Y = tf.constant([True, False, False, True])\n",
    "q30_tensor = tf.boolean_mask(X, Y)\n",
    "q30_tensor.eval()"
   ]
  },
  {
   "cell_type": "markdown",
   "metadata": {},
   "source": [
    "Q31. Let x be a tensor [[0, 5, 3], [4, 2, 1]]. Convert X into one-hot."
   ]
  },
  {
   "cell_type": "code",
   "execution_count": 238,
   "metadata": {},
   "outputs": [
    {
     "data": {
      "text/plain": [
       "array([[[1., 0., 0., 0., 0., 0.],\n",
       "        [0., 0., 0., 0., 0., 1.],\n",
       "        [0., 0., 0., 1., 0., 0.]],\n",
       "\n",
       "       [[0., 0., 0., 0., 1., 0.],\n",
       "        [0., 0., 1., 0., 0., 0.],\n",
       "        [0., 1., 0., 0., 0., 0.]]], dtype=float32)"
      ]
     },
     "execution_count": 238,
     "metadata": {},
     "output_type": "execute_result"
    }
   ],
   "source": [
    "X = tf.constant([[0, 5, 3], [4, 2, 1]])\n",
    "q31_tensor = tf.one_hot(X, 6)\n",
    "q31_tensor.eval()"
   ]
  },
  {
   "cell_type": "code",
   "execution_count": null,
   "metadata": {
    "collapsed": true
   },
   "outputs": [],
   "source": []
  }
 ],
 "metadata": {
  "anaconda-cloud": {},
  "kernelspec": {
   "display_name": "Anaconda 3",
   "language": "python",
   "name": "anaconda3"
  },
  "language_info": {
   "codemirror_mode": {
    "name": "ipython",
    "version": 3
   },
   "file_extension": ".py",
   "mimetype": "text/x-python",
   "name": "python",
   "nbconvert_exporter": "python",
   "pygments_lexer": "ipython3",
   "version": "3.6.4"
  }
 },
 "nbformat": 4,
 "nbformat_minor": 1
}

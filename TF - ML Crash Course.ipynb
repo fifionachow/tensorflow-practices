{
 "cells": [
  {
   "cell_type": "code",
   "execution_count": 2,
   "metadata": {},
   "outputs": [
    {
     "name": "stderr",
     "output_type": "stream",
     "text": [
      "/Users/fionachow/anaconda3/lib/python3.6/site-packages/h5py/__init__.py:36: FutureWarning: Conversion of the second argument of issubdtype from `float` to `np.floating` is deprecated. In future, it will be treated as `np.float64 == np.dtype(float).type`.\n",
      "  from ._conv import register_converters as _register_converters\n"
     ]
    }
   ],
   "source": [
    "import tensorflow as tf\n",
    "import numpy as np"
   ]
  },
  {
   "cell_type": "markdown",
   "metadata": {},
   "source": [
    "# TENSORS\n",
    "\n",
    "Tensors can be stored in the graph as constants or variables - just operations.\n",
    "\n",
    "Constants hold tensors whose values can't change, while variables hold tensors whose values can change.\n",
    "\n",
    "Ref: https://developers.google.com/machine-learning/crash-course/exercises"
   ]
  },
  {
   "cell_type": "code",
   "execution_count": 3,
   "metadata": {},
   "outputs": [],
   "source": [
    "sess = tf.InteractiveSession()"
   ]
  },
  {
   "cell_type": "markdown",
   "metadata": {},
   "source": [
    "__Constants__\n",
    "\n",
    "A constant is an operation that always returns the same tensor value."
   ]
  },
  {
   "cell_type": "code",
   "execution_count": 4,
   "metadata": {},
   "outputs": [
    {
     "data": {
      "text/plain": [
       "b'Hello World'"
      ]
     },
     "execution_count": 4,
     "metadata": {},
     "output_type": "execute_result"
    }
   ],
   "source": [
    "c = tf.constant(\"Hello World\")\n",
    "sess.run(c)"
   ]
  },
  {
   "cell_type": "markdown",
   "metadata": {},
   "source": [
    "__Variables__\n",
    "\n",
    "A variable is an operation that will return whichever tensor has been assigned to it. When working with tf.Variables, you must explicitly initialize them by calling tf.global_variables_initializer at the start of your session."
   ]
  },
  {
   "cell_type": "code",
   "execution_count": 13,
   "metadata": {},
   "outputs": [],
   "source": [
    "v = tf.Variable([2])\n",
    "initialization = tf.global_variables_initializer()"
   ]
  },
  {
   "cell_type": "code",
   "execution_count": 16,
   "metadata": {},
   "outputs": [
    {
     "data": {
      "text/plain": [
       "13"
      ]
     },
     "execution_count": 16,
     "metadata": {},
     "output_type": "execute_result"
    }
   ],
   "source": [
    "# Assemble a graph consisting of the following three operations:\n",
    "#   * Two tf.constant operations to create the operands.\n",
    "#   * One tf.add operation to add the two operands.\n",
    "x = tf.constant(8, name=\"x_const\")\n",
    "y = tf.constant(5, name=\"y_const\")\n",
    "my_sum = tf.add(x, y, name=\"x_y_sum\")\n",
    "\n",
    "my_sum.eval()"
   ]
  },
  {
   "cell_type": "markdown",
   "metadata": {},
   "source": [
    "__*Introduce a Third Operand*__\n",
    "\n",
    "Define a third scalar integer constant, z, and assign it a value of 4.\n",
    "Add z to my_sum to yield a new sum."
   ]
  },
  {
   "cell_type": "code",
   "execution_count": 18,
   "metadata": {},
   "outputs": [
    {
     "data": {
      "text/plain": [
       "17"
      ]
     },
     "execution_count": 18,
     "metadata": {},
     "output_type": "execute_result"
    }
   ],
   "source": [
    "z = tf.constant(4, name='z_const')\n",
    "third_op_sum = tf.add(my_sum, z, name='my_sum_z_new_sum')\n",
    "third_op_sum.eval()"
   ]
  },
  {
   "cell_type": "markdown",
   "metadata": {},
   "source": [
    "# Creating and Manipulating Tensors"
   ]
  },
  {
   "cell_type": "code",
   "execution_count": 19,
   "metadata": {},
   "outputs": [
    {
     "data": {
      "text/plain": [
       "array([ 3,  4,  6,  8, 12, 14], dtype=int32)"
      ]
     },
     "execution_count": 19,
     "metadata": {},
     "output_type": "execute_result"
    }
   ],
   "source": [
    "# Create a six-element vector (1-D tensor).\n",
    "primes = tf.constant([2, 3, 5, 7, 11, 13], dtype=tf.int32)\n",
    "\n",
    "# Create another six-element vector. Each element in the vector will be\n",
    "# initialized to 1. The first argument is the shape of the tensor (more\n",
    "# on shapes below).\n",
    "ones = tf.ones([6], dtype=tf.int32)\n",
    "\n",
    "# Add the two vectors. The resulting tensor is a six-element vector.\n",
    "just_beyond_primes = tf.add(primes, ones)\n",
    "\n",
    "just_beyond_primes.eval()"
   ]
  },
  {
   "cell_type": "markdown",
   "metadata": {},
   "source": [
    "__*Tensor Shapes*__\n",
    "\n",
    "Shapes are used to characterize the size and number of dimensions of a tensor. The shape of a tensor is expressed as list, with the ith element representing the size along dimension i. The length of the list then indicates the rank of the tensor (i.e., the number of dimensions)."
   ]
  },
  {
   "cell_type": "code",
   "execution_count": 20,
   "metadata": {},
   "outputs": [
    {
     "name": "stdout",
     "output_type": "stream",
     "text": [
      "scalar has shape () and value:\n",
      " 0.0\n",
      "vector has shape (3,) and value:\n",
      " [0. 0. 0.]\n",
      "matrix has shape (2, 3) and value:\n",
      " [[0. 0. 0.]\n",
      " [0. 0. 0.]]\n"
     ]
    }
   ],
   "source": [
    "# A scalar (0-D tensor).\n",
    "scalar = tf.zeros([])\n",
    "\n",
    "# A vector with 3 elements.\n",
    "vector = tf.zeros([3])\n",
    "\n",
    "# A matrix with 2 rows and 3 columns.\n",
    "matrix = tf.zeros([2, 3])\n",
    "\n",
    "print('scalar has shape', scalar.get_shape(), 'and value:\\n', scalar.eval())\n",
    "print('vector has shape', vector.get_shape(), 'and value:\\n', vector.eval())\n",
    "print('matrix has shape', matrix.get_shape(), 'and value:\\n', matrix.eval())"
   ]
  },
  {
   "cell_type": "markdown",
   "metadata": {},
   "source": [
    "__Broadcasting__\n",
    "\n",
    "In TensorFlow, operations can be performed on tensors that would traditionally have been incompatible.\n",
    "\n",
    "TensorFlow supports broadcasting (a concept borrowed from numpy), where the smaller array in an element-wise operation is enlarged to have the same shape as the larger array."
   ]
  },
  {
   "cell_type": "code",
   "execution_count": 22,
   "metadata": {},
   "outputs": [
    {
     "data": {
      "text/plain": [
       "array([ 3,  4,  6,  8, 12, 14], dtype=int32)"
      ]
     },
     "execution_count": 22,
     "metadata": {},
     "output_type": "execute_result"
    }
   ],
   "source": [
    "# Create a six-element vector (1-D tensor).\n",
    "primes = tf.constant([2, 3, 5, 7, 11, 13], dtype=tf.int32)\n",
    "\n",
    "# Create a constant scalar with value 1.\n",
    "ones = tf.constant(1, dtype=tf.int32)\n",
    "\n",
    "# Add the two tensors. The resulting tensor is a six-element vector.\n",
    "just_beyond_primes = tf.add(primes, ones)\n",
    "\n",
    "just_beyond_primes.eval()"
   ]
  },
  {
   "cell_type": "markdown",
   "metadata": {},
   "source": [
    "__Matrix Multiplication__\n",
    "\n",
    "In linear algebra, when multiplying two matrices, the number of columns of the first matrix must equal the number of rows in the second matrix.\n",
    "\n",
    "It is valid to multiply a 3x4 matrix by a 4x2 matrix. This will result in a 3x2 matrix.\n",
    "\n",
    "It is invalid to multiply a 4x2 matrix by a 3x4 matrix."
   ]
  },
  {
   "cell_type": "code",
   "execution_count": 25,
   "metadata": {},
   "outputs": [
    {
     "name": "stdout",
     "output_type": "stream",
     "text": [
      "[[35 58]\n",
      " [35 33]\n",
      " [ 1 -4]]\n",
      "\n",
      "(3, 2)\n"
     ]
    }
   ],
   "source": [
    "# Create a matrix (2-d tensor) with 3 rows and 4 columns.\n",
    "x = tf.constant([[5, 2, 4, 3], [5, 1, 6, -2], [-1, 3, -1, -2]],\n",
    "              dtype=tf.int32)\n",
    "\n",
    "# Create a matrix with 4 rows and 2 columns.\n",
    "y = tf.constant([[2, 2], [3, 5], [4, 5], [1, 6]], dtype=tf.int32)\n",
    "\n",
    "# Multiply `x` by `y`. \n",
    "# The resulting matrix will have 3 rows and 2 columns.\n",
    "matrix_multiply_result = tf.matmul(x, y)\n",
    "\n",
    "print(matrix_multiply_result.eval())\n",
    "print()\n",
    "print(matrix_multiply_result.get_shape())"
   ]
  },
  {
   "cell_type": "markdown",
   "metadata": {},
   "source": [
    "__Tensor Reshaping__\n",
    "\n",
    "With tensor addition and matrix multiplication each imposing constraints on operands, TensorFlow programmers must frequently reshape tensors.\n",
    "\n",
    "You can use the tf.reshape method to reshape a tensor. For example, you can reshape a 8x2 tensor into a 2x8 tensor or a 4x4 tensor:"
   ]
  },
  {
   "cell_type": "code",
   "execution_count": 29,
   "metadata": {},
   "outputs": [
    {
     "name": "stdout",
     "output_type": "stream",
     "text": [
      "Original matrix (8x2):\n",
      "[[ 1  2]\n",
      " [ 3  4]\n",
      " [ 5  6]\n",
      " [ 7  8]\n",
      " [ 9 10]\n",
      " [11 12]\n",
      " [13 14]\n",
      " [15 16]]\n",
      "Reshaped matrix (2x8):\n",
      "[[ 1  2  3  4  5  6  7  8]\n",
      " [ 9 10 11 12 13 14 15 16]]\n",
      "Reshaped matrix (4x4):\n",
      "[[ 1  2  3  4]\n",
      " [ 5  6  7  8]\n",
      " [ 9 10 11 12]\n",
      " [13 14 15 16]]\n"
     ]
    }
   ],
   "source": [
    "# Create an 8x2 matrix (2-D tensor).\n",
    "matrix = tf.constant([[1,2], [3,4], [5,6], [7,8],\n",
    "                    [9,10], [11,12], [13, 14], [15,16]], dtype=tf.int32)\n",
    "\n",
    "# Reshape the 8x2 matrix into a 2x8 matrix.\n",
    "reshaped_2x8_matrix = tf.reshape(matrix, [2,8])\n",
    "\n",
    "# Reshape the 8x2 matrix into a 4x4 matrix\n",
    "reshaped_4x4_matrix = tf.reshape(matrix, [4,4])\n",
    "\n",
    "print(\"Original matrix (8x2):\")\n",
    "print(matrix.eval())\n",
    "print(\"Reshaped matrix (2x8):\")\n",
    "print(reshaped_2x8_matrix.eval())\n",
    "print(\"Reshaped matrix (4x4):\")\n",
    "print(reshaped_4x4_matrix.eval())"
   ]
  },
  {
   "cell_type": "markdown",
   "metadata": {},
   "source": [
    "You can also use tf.reshape to change the number of dimensions (the \"rank\") of the tensor. For example, you could reshape that 8x2 tensor into a 3-D 2x2x4 tensor or a 1-D 16-element tensor."
   ]
  },
  {
   "cell_type": "code",
   "execution_count": 30,
   "metadata": {},
   "outputs": [
    {
     "name": "stdout",
     "output_type": "stream",
     "text": [
      "Original matrix (8x2):\n",
      "[[ 1  2]\n",
      " [ 3  4]\n",
      " [ 5  6]\n",
      " [ 7  8]\n",
      " [ 9 10]\n",
      " [11 12]\n",
      " [13 14]\n",
      " [15 16]]\n",
      "Reshaped 3-D tensor (2x2x4):\n",
      "[[[ 1  2  3  4]\n",
      "  [ 5  6  7  8]]\n",
      "\n",
      " [[ 9 10 11 12]\n",
      "  [13 14 15 16]]]\n",
      "1-D vector:\n",
      "[ 1  2  3  4  5  6  7  8  9 10 11 12 13 14 15 16]\n"
     ]
    }
   ],
   "source": [
    "# Create an 8x2 matrix (2-D tensor).\n",
    "matrix = tf.constant([[1,2], [3,4], [5,6], [7,8],\n",
    "                    [9,10], [11,12], [13, 14], [15,16]], dtype=tf.int32)\n",
    "\n",
    "# Reshape the 8x2 matrix into a 3-D 2x2x4 tensor.\n",
    "reshaped_2x2x4_tensor = tf.reshape(matrix, [2,2,4])\n",
    "\n",
    "# Reshape the 8x2 matrix into a 1-D 16-element tensor.\n",
    "one_dimensional_vector = tf.reshape(matrix, [16])\n",
    "\n",
    "print(\"Original matrix (8x2):\")\n",
    "print(matrix.eval())\n",
    "print(\"Reshaped 3-D tensor (2x2x4):\")\n",
    "print(reshaped_2x2x4_tensor.eval())\n",
    "print(\"1-D vector:\")\n",
    "print(one_dimensional_vector.eval())"
   ]
  },
  {
   "cell_type": "markdown",
   "metadata": {},
   "source": [
    "__EXERCISE: Reshape two tensors in order to multiply them.__\n",
    "\n",
    "The following two vectors are incompatible for matrix multiplication:\n",
    "\n",
    "a = tf.constant([5, 3, 2, 7, 1, 4])\n",
    "\n",
    "b = tf.constant([4, 6, 3])\n",
    "\n",
    "Reshape these vectors into compatible operands for matrix multiplication. Then, invoke a matrix multiplication operation on the reshaped tensors."
   ]
  },
  {
   "cell_type": "code",
   "execution_count": 33,
   "metadata": {},
   "outputs": [
    {
     "data": {
      "text/plain": [
       "array([[44],\n",
       "       [46]], dtype=int32)"
      ]
     },
     "execution_count": 33,
     "metadata": {},
     "output_type": "execute_result"
    }
   ],
   "source": [
    "a = tf.constant([5, 3, 2, 7, 1, 4])\n",
    "\n",
    "b = tf.constant([4, 6, 3])\n",
    "\n",
    "reshaped_a_2X3_tensor = tf.reshape(a, [2, 3])\n",
    "reshaped_b_3X1_tensor = tf.reshape(b, [3, 1])\n",
    "\n",
    "reshaped_mul = tf.matmul(reshaped_a_2X3_tensor, reshaped_b_3X1_tensor)\n",
    "\n",
    "reshaped_mul.eval()"
   ]
  },
  {
   "cell_type": "markdown",
   "metadata": {},
   "source": [
    "__Variables, Initialization and Assignment__\n",
    "\n",
    "So far, all the operations we performed were on static values (tf.constant); calling eval() always returned the same result. TensorFlow allows you to define Variable objects, whose values can be changed.\n",
    "\n",
    "When creating a variable, you can set an initial value explicitly, or you can use an initializer (like a distribution)"
   ]
  },
  {
   "cell_type": "code",
   "execution_count": 34,
   "metadata": {
    "collapsed": true
   },
   "outputs": [],
   "source": [
    "# Create a variable with the initial value 3.\n",
    "v = tf.Variable([3])\n",
    "\n",
    "# Create a variable of shape [1], with a random initial value,\n",
    "# sampled from a normal distribution with mean 1 and standard deviation 0.35.\n",
    "w = tf.Variable(tf.random_normal([1], mean=1.0, stddev=0.35))"
   ]
  },
  {
   "cell_type": "markdown",
   "metadata": {},
   "source": [
    "One peculiarity of TensorFlow is that variable initialization is not automatic. eval() on Variable object will throw an exception.\n",
    "\n",
    "\n",
    "The easiest way to initialize a variable is to call global_variables_initializer. Note the use of Session.run(), which is roughly equivalent to eval().\n",
    "\n",
    "Once initialized, variables will maintain their value within the same session (however, when starting a new session, you will need to re-initialize them):"
   ]
  },
  {
   "cell_type": "code",
   "execution_count": 37,
   "metadata": {},
   "outputs": [
    {
     "name": "stdout",
     "output_type": "stream",
     "text": [
      "[3]\n",
      "[1.3576097]\n"
     ]
    }
   ],
   "source": [
    "initialization = tf.global_variables_initializer()\n",
    "sess.run(initialization)\n",
    "# Now, variables can be accessed normally, and have values assigned to them.\n",
    "print(v.eval())\n",
    "print(w.eval())"
   ]
  },
  {
   "cell_type": "markdown",
   "metadata": {},
   "source": [
    "To change the value of a variable, use the assign op. Note that simply creating the assign op will not have any effect. As with initialization, you have to run the assignment op to update the variable value:"
   ]
  },
  {
   "cell_type": "code",
   "execution_count": 38,
   "metadata": {},
   "outputs": [
    {
     "name": "stdout",
     "output_type": "stream",
     "text": [
      "[3]\n",
      "[3]\n",
      "[7]\n"
     ]
    }
   ],
   "source": [
    "sess.run(tf.global_variables_initializer())\n",
    "# This should print the variable's initial value.\n",
    "print(v.eval())\n",
    "\n",
    "assignment = tf.assign(v, [7])\n",
    "# The variable has not been changed yet!\n",
    "print(v.eval())\n",
    "\n",
    "# Execute the assignment op.\n",
    "sess.run(assignment)\n",
    "# Now the variable is updated.\n",
    "print(v.eval())"
   ]
  },
  {
   "cell_type": "markdown",
   "metadata": {},
   "source": [
    "__EXERCISE: Simulate 10 rolls of two dice.__\n",
    "    \n",
    "Create a dice simulation, which generates a 10x3 2-D tensor in which:\n",
    "\n",
    "Columns 1 and 2 each hold one throw of one six-sided die (with values 1–6).\n",
    "Column 3 holds the sum of Columns 1 and 2 on the same row.\n",
    "For example, the first row might have the following values:\n",
    "\n",
    "Column 1 holds 4\n",
    "\n",
    "Column 2 holds 3\n",
    "\n",
    "Column 3 holds 7"
   ]
  },
  {
   "cell_type": "code",
   "execution_count": 45,
   "metadata": {},
   "outputs": [
    {
     "data": {
      "text/plain": [
       "array([[ 4,  2,  6],\n",
       "       [ 6,  5, 11],\n",
       "       [ 2,  6,  8],\n",
       "       [ 2,  3,  5],\n",
       "       [ 3,  1,  4],\n",
       "       [ 3,  2,  5],\n",
       "       [ 3,  6,  9],\n",
       "       [ 2,  4,  6],\n",
       "       [ 5,  4,  9],\n",
       "       [ 5,  1,  6]], dtype=int32)"
      ]
     },
     "execution_count": 45,
     "metadata": {},
     "output_type": "execute_result"
    }
   ],
   "source": [
    "dice1 = tf.Variable(tf.random_uniform([10, 1],\n",
    "                                        minval=1, maxval=7,\n",
    "                                        dtype=tf.int32))\n",
    "dice2 = tf.Variable(tf.random_uniform([10, 1],\n",
    "                                        minval=1, maxval=7,\n",
    "                                        dtype=tf.int32))\n",
    "add_dice1_2 = tf.add(dice1, dice2)\n",
    "\n",
    "dice_output = tf.concat([dice1, dice2, add_dice1_2], 1)\n",
    "sess.run(tf.global_variables_initializer())\n",
    "dice_output.eval()"
   ]
  }
 ],
 "metadata": {
  "kernelspec": {
   "display_name": "Anaconda 3",
   "language": "python",
   "name": "anaconda3"
  },
  "language_info": {
   "codemirror_mode": {
    "name": "ipython",
    "version": 3
   },
   "file_extension": ".py",
   "mimetype": "text/x-python",
   "name": "python",
   "nbconvert_exporter": "python",
   "pygments_lexer": "ipython3",
   "version": "3.6.4"
  }
 },
 "nbformat": 4,
 "nbformat_minor": 2
}
